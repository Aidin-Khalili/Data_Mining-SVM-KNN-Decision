{
 "cells": [
  {
   "cell_type": "markdown",
   "id": "8a402d1e",
   "metadata": {},
   "source": [
    "SVM on data sets (Iris, Ecoli, SPECTF heart)\n",
    "Links:\n",
    "1. SPECTF heart: https://archive.ics.uci.edu/ml/machine-learning-databases/spect/SPECTF.train\n",
    "2. Iris: https://archive.ics.uci.edu/ml/machine-learning-databases/iris/iris.data\n",
    "3. Ecoli: https://archive.ics.uci.edu/ml/machine-learning-databases/ecoli/ecoli.data"
   ]
  },
  {
   "cell_type": "code",
   "execution_count": 1,
   "id": "5b694e71",
   "metadata": {},
   "outputs": [],
   "source": [
    "import pandas as pd\n",
    "import numpy as np\n",
    "import matplotlib.pyplot as plt\n",
    "from sklearn.model_selection import train_test_split\n",
    "from sklearn import tree\n",
    "from sklearn.preprocessing import StandardScaler\n",
    "from sklearn.neighbors import KNeighborsClassifier\n",
    "from sklearn.svm import SVC\n",
    "\n",
    "def delete_DublicateInstances(theDataset):\n",
    "    theDataset.drop_duplicates(inplace=True)\n",
    "\n",
    "def handle_MissingValues(theDataSet):\n",
    "    for i in range(len(theDataSet.columns)):\n",
    "        theDataSet.iloc[:,i].fillna(theDataSet.iloc[:,i].mean(), inplace=True)"
   ]
  },
  {
   "cell_type": "code",
   "execution_count": 2,
   "id": "760b9a66",
   "metadata": {},
   "outputs": [],
   "source": [
    "#Iris dataSet \n",
    "url_iris = 'https://archive.ics.uci.edu/ml/machine-learning-databases/iris/iris.data'\n",
    "irisDataSet = pd.read_csv(url_iris, names=['Sepal length', 'Sepal width', 'Petal length', 'Petal width', 'class'])\n",
    "delete_DublicateInstances(irisDataSet)\n",
    "x_irisDataSet = irisDataSet.drop('class', axis=1)\n",
    "y_irisDataSet = irisDataSet['class']\n",
    "x_train_irisDataSet, x_test_irisDataSet, y_train_irisDataSet, y_test_irisDataSet = train_test_split(x_irisDataSet, y_irisDataSet, test_size=0.3)\n",
    "SVM_irisDataSet = SVC()\n",
    "SVM_irisDataSet.fit(x_train_irisDataSet, y_train_irisDataSet)\n",
    "SVM_prediction_irisDataSet = SVM_irisDataSet.predict(x_test_irisDataSet)"
   ]
  },
  {
   "cell_type": "code",
   "execution_count": 3,
   "id": "525c5008",
   "metadata": {},
   "outputs": [],
   "source": [
    "#BezdekIris dataSet \n",
    "url_bezdekIris = 'https://archive.ics.uci.edu/ml/machine-learning-databases/iris/bezdekIris.data'\n",
    "bezdekIrisDataSet = pd.read_csv(url_bezdekIris, names=['Sepal length', 'Sepal width', 'Petal length', 'Petal width', 'class'])\n",
    "delete_DublicateInstances(bezdekIrisDataSet)\n",
    "x_bezdekIrisDataSet = bezdekIrisDataSet.drop('class', axis=1)\n",
    "y_bezdekIrisDataSet = bezdekIrisDataSet['class']\n",
    "x_train_bezdekIrisDataSet, x_test_bezdekIrisDataSet, y_train_bezdekIrisDataSet, y_test_bezdekIrisDataSet = train_test_split(x_bezdekIrisDataSet, y_bezdekIrisDataSet, test_size=0.3)\n",
    "SVM_bezdekIrisDataSet = SVC()\n",
    "SVM_bezdekIrisDataSet.fit(x_train_bezdekIrisDataSet, y_train_bezdekIrisDataSet)\n",
    "SVM_prediction_bezdekIrisDataSet = SVM_bezdekIrisDataSet.predict(x_test_bezdekIrisDataSet)"
   ]
  },
  {
   "cell_type": "code",
   "execution_count": 4,
   "id": "bf677e63",
   "metadata": {},
   "outputs": [],
   "source": [
    "#Ecoli dataSet \n",
    "url_ecoli = 'https://archive.ics.uci.edu/ml/machine-learning-databases/ecoli/ecoli.data'\n",
    "ecoliDataSet = pd.read_csv(url_ecoli, names=['Sequence Name', 'mcg', 'gvh', 'lip', 'chg', 'aac', 'alm1', 'alm2', 'class'], sep='\\s+')\n",
    "delete_DublicateInstances(ecoliDataSet)\n",
    "x_ecoliDataSet = ecoliDataSet.drop(columns=['Sequence Name','class'], axis=1)\n",
    "y_ecoliDataSet = ecoliDataSet['class']\n",
    "x_train_ecoliDataSet, x_test_ecoliDataSet, y_train_ecoliDataSet, y_test_ecoliDataSet = train_test_split(x_ecoliDataSet, y_ecoliDataSet, test_size=0.3)\n",
    "SVM_ecoliDataSet = SVC()\n",
    "SVM_ecoliDataSet.fit(x_train_ecoliDataSet, y_train_ecoliDataSet)\n",
    "SVM_prediction_ecoliDataSet = SVM_ecoliDataSet.predict(x_test_ecoliDataSet)"
   ]
  },
  {
   "cell_type": "code",
   "execution_count": 5,
   "id": "ed25e7a7",
   "metadata": {},
   "outputs": [],
   "source": [
    "#SPECTF Heart DataSet \n",
    "url_train_SPECTFDataSet = 'https://archive.ics.uci.edu/ml/machine-learning-databases/spect/SPECTF.train'\n",
    "train_SPECTFDataSet = pd.read_csv(url_train_SPECTFDataSet, names=['OVERALL_DIAGNOSIS', 'F1R', 'F1S', 'F2R', 'F2S', 'F3R', 'F3S', 'F4R', 'F4S', 'F5R', 'F5S', 'F6R', 'F6S', 'F7R', 'F7S', 'F8R', 'F8S', 'F9R', 'F9S', 'F10R', 'F10S', 'F11R', 'F11S', 'F12R', 'F12S', 'F13R', 'F13S', 'F14R', 'F14S', 'F15R', 'F15S', 'F16R', 'F16S', 'F17R', 'F17S', 'F18R', 'F18S', 'F19R', 'F19S', 'F20R', 'F20S', 'F21R', 'F21S', 'F22R', 'F22S'])\n",
    "url_test_SPECTFDataSet = 'https://archive.ics.uci.edu/ml/machine-learning-databases/spect/SPECTF.test'\n",
    "test_SPECTFDataSet = pd.read_csv(url_test_SPECTFDataSet, names=['OVERALL_DIAGNOSIS', 'F1R', 'F1S', 'F2R', 'F2S', 'F3R', 'F3S', 'F4R', 'F4S', 'F5R', 'F5S', 'F6R', 'F6S', 'F7R', 'F7S', 'F8R', 'F8S', 'F9R', 'F9S', 'F10R', 'F10S', 'F11R', 'F11S', 'F12R', 'F12S', 'F13R', 'F13S', 'F14R', 'F14S', 'F15R', 'F15S', 'F16R', 'F16S', 'F17R', 'F17S', 'F18R', 'F18S', 'F19R', 'F19S', 'F20R', 'F20S', 'F21R', 'F21S', 'F22R', 'F22S'])\n",
    "delete_DublicateInstances(train_SPECTFDataSet)\n",
    "delete_DublicateInstances(test_SPECTFDataSet)\n",
    "x_train_SPECTFDataSet = train_SPECTFDataSet.drop(columns=['OVERALL_DIAGNOSIS'], axis=1)\n",
    "y_train_SPECTFDataSet = train_SPECTFDataSet['OVERALL_DIAGNOSIS']\n",
    "x_test_SPECTFDataSet = test_SPECTFDataSet.drop(columns=['OVERALL_DIAGNOSIS'], axis=1)\n",
    "y_test_SPECTFDataSet = test_SPECTFDataSet['OVERALL_DIAGNOSIS']\n",
    "handle_MissingValues(x_train_SPECTFDataSet)\n",
    "handle_MissingValues(x_test_SPECTFDataSet)\n",
    "SVM_SPECTFDataSet = SVC()\n",
    "SVM_SPECTFDataSet.fit(x_train_SPECTFDataSet, y_train_SPECTFDataSet)\n",
    "SVM_prediction_SPECTFDataSet = SVM_SPECTFDataSet.predict(x_test_SPECTFDataSet)"
   ]
  }
 ],
 "metadata": {
  "kernelspec": {
   "display_name": "Python 3 (ipykernel)",
   "language": "python",
   "name": "python3"
  },
  "language_info": {
   "codemirror_mode": {
    "name": "ipython",
    "version": 3
   },
   "file_extension": ".py",
   "mimetype": "text/x-python",
   "name": "python",
   "nbconvert_exporter": "python",
   "pygments_lexer": "ipython3",
   "version": "3.9.13"
  }
 },
 "nbformat": 4,
 "nbformat_minor": 5
}
